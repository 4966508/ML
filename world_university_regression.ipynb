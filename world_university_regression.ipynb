{
 "cells": [
  {
   "cell_type": "markdown",
   "id": "e2c5705d",
   "metadata": {},
   "source": [
    "# World University Ranking – Linear Regression Project"
   ]
  },
  {
   "cell_type": "markdown",
   "id": "46299052",
   "metadata": {},
   "source": [
    "Dataset source: **aritra100/world-university-ranking** on Kaggle\n",
    "\n",
    "We use linear regression model to predict the final grade of a student."
   ]
  },
  {
   "cell_type": "markdown",
   "id": "f48cf9ff",
   "metadata": {},
   "source": [
    "## 1  Setup & download"
   ]
  },
  {
   "cell_type": "code",
   "execution_count": 205,
   "id": "a0555be4",
   "metadata": {},
   "outputs": [
    {
     "name": "stdout",
     "output_type": "stream",
     "text": [
      "Note: you may need to restart the kernel to use updated packages.\n"
     ]
    },
    {
     "name": "stderr",
     "output_type": "stream",
     "text": [
      "\n",
      "[notice] A new release of pip is available: 24.0 -> 25.1.1\n",
      "[notice] To update, run: C:\\Users\\49665\\AppData\\Local\\Microsoft\\WindowsApps\\PythonSoftwareFoundation.Python.3.11_qbz5n2kfra8p0\\python.exe -m pip install --upgrade pip\n"
     ]
    }
   ],
   "source": [
    "%pip install -q --upgrade kagglehub pandas numpy matplotlib seaborn"
   ]
  },
  {
   "cell_type": "markdown",
   "id": "1a6eef09",
   "metadata": {},
   "source": [
    "Download dataset. Remove first column \"Student ID\" and last column \"Pass/Fail.\""
   ]
  },
  {
   "cell_type": "code",
   "execution_count": 206,
   "id": "c773b42b",
   "metadata": {},
   "outputs": [
    {
     "data": {
      "text/html": [
       "<div>\n",
       "<style scoped>\n",
       "    .dataframe tbody tr th:only-of-type {\n",
       "        vertical-align: middle;\n",
       "    }\n",
       "\n",
       "    .dataframe tbody tr th {\n",
       "        vertical-align: top;\n",
       "    }\n",
       "\n",
       "    .dataframe thead th {\n",
       "        text-align: right;\n",
       "    }\n",
       "</style>\n",
       "<table border=\"1\" class=\"dataframe\">\n",
       "  <thead>\n",
       "    <tr style=\"text-align: right;\">\n",
       "      <th></th>\n",
       "      <th>Gender</th>\n",
       "      <th>Study_Hours_per_Week</th>\n",
       "      <th>Attendance_Rate</th>\n",
       "      <th>Past_Exam_Scores</th>\n",
       "      <th>Parental_Education_Level</th>\n",
       "      <th>Internet_Access_at_Home</th>\n",
       "      <th>Extracurricular_Activities</th>\n",
       "      <th>Final_Exam_Score</th>\n",
       "    </tr>\n",
       "  </thead>\n",
       "  <tbody>\n",
       "    <tr>\n",
       "      <th>0</th>\n",
       "      <td>Male</td>\n",
       "      <td>31</td>\n",
       "      <td>68.267841</td>\n",
       "      <td>86</td>\n",
       "      <td>High School</td>\n",
       "      <td>Yes</td>\n",
       "      <td>Yes</td>\n",
       "      <td>63</td>\n",
       "    </tr>\n",
       "    <tr>\n",
       "      <th>1</th>\n",
       "      <td>Male</td>\n",
       "      <td>16</td>\n",
       "      <td>78.222927</td>\n",
       "      <td>73</td>\n",
       "      <td>PhD</td>\n",
       "      <td>No</td>\n",
       "      <td>No</td>\n",
       "      <td>50</td>\n",
       "    </tr>\n",
       "    <tr>\n",
       "      <th>2</th>\n",
       "      <td>Female</td>\n",
       "      <td>21</td>\n",
       "      <td>87.525096</td>\n",
       "      <td>74</td>\n",
       "      <td>PhD</td>\n",
       "      <td>Yes</td>\n",
       "      <td>No</td>\n",
       "      <td>55</td>\n",
       "    </tr>\n",
       "    <tr>\n",
       "      <th>3</th>\n",
       "      <td>Female</td>\n",
       "      <td>27</td>\n",
       "      <td>92.076483</td>\n",
       "      <td>99</td>\n",
       "      <td>Bachelors</td>\n",
       "      <td>No</td>\n",
       "      <td>No</td>\n",
       "      <td>65</td>\n",
       "    </tr>\n",
       "    <tr>\n",
       "      <th>4</th>\n",
       "      <td>Female</td>\n",
       "      <td>37</td>\n",
       "      <td>98.655517</td>\n",
       "      <td>63</td>\n",
       "      <td>Masters</td>\n",
       "      <td>No</td>\n",
       "      <td>Yes</td>\n",
       "      <td>70</td>\n",
       "    </tr>\n",
       "  </tbody>\n",
       "</table>\n",
       "</div>"
      ],
      "text/plain": [
       "   Gender  Study_Hours_per_Week  Attendance_Rate  Past_Exam_Scores  \\\n",
       "0    Male                    31        68.267841                86   \n",
       "1    Male                    16        78.222927                73   \n",
       "2  Female                    21        87.525096                74   \n",
       "3  Female                    27        92.076483                99   \n",
       "4  Female                    37        98.655517                63   \n",
       "\n",
       "  Parental_Education_Level Internet_Access_at_Home Extracurricular_Activities  \\\n",
       "0              High School                     Yes                        Yes   \n",
       "1                      PhD                      No                         No   \n",
       "2                      PhD                     Yes                         No   \n",
       "3                Bachelors                      No                         No   \n",
       "4                  Masters                      No                        Yes   \n",
       "\n",
       "   Final_Exam_Score  \n",
       "0                63  \n",
       "1                50  \n",
       "2                55  \n",
       "3                65  \n",
       "4                70  "
      ]
     },
     "execution_count": 206,
     "metadata": {},
     "output_type": "execute_result"
    }
   ],
   "source": [
    "import kagglehub\n",
    "import pandas as pd, numpy as np, os, glob\n",
    "\n",
    "DATA_PATH = kagglehub.dataset_download(\"amrmaree/student-performance-prediction\")\n",
    "csv_file = glob.glob(os.path.join(DATA_PATH, \"*.csv\"))\n",
    "df = pd.read_csv(csv_file[0])\n",
    "df = df.drop(columns=['Student_ID', 'Pass_Fail'])\n",
    "df.head()"
   ]
  },
  {
   "cell_type": "markdown",
   "id": "130637d5",
   "metadata": {},
   "source": [
    "Split the column that will be predicted."
   ]
  },
  {
   "cell_type": "code",
   "execution_count": 207,
   "id": "1096a1f1",
   "metadata": {},
   "outputs": [],
   "source": [
    "y = df['Final_Exam_Score']\n",
    "X = df.drop(columns=['Final_Exam_Score'])"
   ]
  },
  {
   "cell_type": "markdown",
   "id": "498cc33b",
   "metadata": {},
   "source": [
    "## 2  Exploratory Data Analysis (EDA)"
   ]
  },
  {
   "cell_type": "markdown",
   "id": "a4237fbd",
   "metadata": {},
   "source": [
    "### Dataset dimensions and dtypes"
   ]
  },
  {
   "cell_type": "code",
   "execution_count": 208,
   "id": "28deeb50",
   "metadata": {},
   "outputs": [
    {
     "name": "stdout",
     "output_type": "stream",
     "text": [
      "Rows: 708\n",
      "Columns: 7\n"
     ]
    },
    {
     "data": {
      "text/plain": [
       "Gender                         object\n",
       "Study_Hours_per_Week            int64\n",
       "Attendance_Rate               float64\n",
       "Past_Exam_Scores                int64\n",
       "Parental_Education_Level       object\n",
       "Internet_Access_at_Home        object\n",
       "Extracurricular_Activities     object\n",
       "dtype: object"
      ]
     },
     "execution_count": 208,
     "metadata": {},
     "output_type": "execute_result"
    }
   ],
   "source": [
    "print(f\"Rows: {X.shape[0]:,}\")\n",
    "print(f\"Columns: {X.shape[1]}\")\n",
    "X.dtypes"
   ]
  },
  {
   "cell_type": "markdown",
   "id": "c247d8f7",
   "metadata": {},
   "source": [
    "### Statistics"
   ]
  },
  {
   "cell_type": "code",
   "execution_count": 209,
   "id": "933a1da1",
   "metadata": {},
   "outputs": [
    {
     "data": {
      "text/html": [
       "<div>\n",
       "<style scoped>\n",
       "    .dataframe tbody tr th:only-of-type {\n",
       "        vertical-align: middle;\n",
       "    }\n",
       "\n",
       "    .dataframe tbody tr th {\n",
       "        vertical-align: top;\n",
       "    }\n",
       "\n",
       "    .dataframe thead th {\n",
       "        text-align: right;\n",
       "    }\n",
       "</style>\n",
       "<table border=\"1\" class=\"dataframe\">\n",
       "  <thead>\n",
       "    <tr style=\"text-align: right;\">\n",
       "      <th></th>\n",
       "      <th>count</th>\n",
       "      <th>unique</th>\n",
       "      <th>top</th>\n",
       "      <th>freq</th>\n",
       "      <th>mean</th>\n",
       "      <th>std</th>\n",
       "      <th>min</th>\n",
       "      <th>25%</th>\n",
       "      <th>50%</th>\n",
       "      <th>75%</th>\n",
       "      <th>max</th>\n",
       "    </tr>\n",
       "  </thead>\n",
       "  <tbody>\n",
       "    <tr>\n",
       "      <th>Gender</th>\n",
       "      <td>708</td>\n",
       "      <td>2</td>\n",
       "      <td>Female</td>\n",
       "      <td>375</td>\n",
       "      <td>NaN</td>\n",
       "      <td>NaN</td>\n",
       "      <td>NaN</td>\n",
       "      <td>NaN</td>\n",
       "      <td>NaN</td>\n",
       "      <td>NaN</td>\n",
       "      <td>NaN</td>\n",
       "    </tr>\n",
       "    <tr>\n",
       "      <th>Study_Hours_per_Week</th>\n",
       "      <td>708.0</td>\n",
       "      <td>NaN</td>\n",
       "      <td>NaN</td>\n",
       "      <td>NaN</td>\n",
       "      <td>26.132768</td>\n",
       "      <td>8.877727</td>\n",
       "      <td>10.0</td>\n",
       "      <td>19.0</td>\n",
       "      <td>27.0</td>\n",
       "      <td>34.0</td>\n",
       "      <td>39.0</td>\n",
       "    </tr>\n",
       "    <tr>\n",
       "      <th>Attendance_Rate</th>\n",
       "      <td>708.0</td>\n",
       "      <td>NaN</td>\n",
       "      <td>NaN</td>\n",
       "      <td>NaN</td>\n",
       "      <td>78.107722</td>\n",
       "      <td>13.802802</td>\n",
       "      <td>50.11697</td>\n",
       "      <td>67.550094</td>\n",
       "      <td>79.363046</td>\n",
       "      <td>89.504232</td>\n",
       "      <td>99.967675</td>\n",
       "    </tr>\n",
       "    <tr>\n",
       "      <th>Past_Exam_Scores</th>\n",
       "      <td>708.0</td>\n",
       "      <td>NaN</td>\n",
       "      <td>NaN</td>\n",
       "      <td>NaN</td>\n",
       "      <td>77.871469</td>\n",
       "      <td>14.402739</td>\n",
       "      <td>50.0</td>\n",
       "      <td>65.0</td>\n",
       "      <td>79.0</td>\n",
       "      <td>91.0</td>\n",
       "      <td>100.0</td>\n",
       "    </tr>\n",
       "    <tr>\n",
       "      <th>Parental_Education_Level</th>\n",
       "      <td>708</td>\n",
       "      <td>4</td>\n",
       "      <td>Bachelors</td>\n",
       "      <td>189</td>\n",
       "      <td>NaN</td>\n",
       "      <td>NaN</td>\n",
       "      <td>NaN</td>\n",
       "      <td>NaN</td>\n",
       "      <td>NaN</td>\n",
       "      <td>NaN</td>\n",
       "      <td>NaN</td>\n",
       "    </tr>\n",
       "    <tr>\n",
       "      <th>Internet_Access_at_Home</th>\n",
       "      <td>708</td>\n",
       "      <td>2</td>\n",
       "      <td>No</td>\n",
       "      <td>381</td>\n",
       "      <td>NaN</td>\n",
       "      <td>NaN</td>\n",
       "      <td>NaN</td>\n",
       "      <td>NaN</td>\n",
       "      <td>NaN</td>\n",
       "      <td>NaN</td>\n",
       "      <td>NaN</td>\n",
       "    </tr>\n",
       "    <tr>\n",
       "      <th>Extracurricular_Activities</th>\n",
       "      <td>708</td>\n",
       "      <td>2</td>\n",
       "      <td>No</td>\n",
       "      <td>361</td>\n",
       "      <td>NaN</td>\n",
       "      <td>NaN</td>\n",
       "      <td>NaN</td>\n",
       "      <td>NaN</td>\n",
       "      <td>NaN</td>\n",
       "      <td>NaN</td>\n",
       "      <td>NaN</td>\n",
       "    </tr>\n",
       "  </tbody>\n",
       "</table>\n",
       "</div>"
      ],
      "text/plain": [
       "                            count unique        top freq       mean  \\\n",
       "Gender                        708      2     Female  375        NaN   \n",
       "Study_Hours_per_Week        708.0    NaN        NaN  NaN  26.132768   \n",
       "Attendance_Rate             708.0    NaN        NaN  NaN  78.107722   \n",
       "Past_Exam_Scores            708.0    NaN        NaN  NaN  77.871469   \n",
       "Parental_Education_Level      708      4  Bachelors  189        NaN   \n",
       "Internet_Access_at_Home       708      2         No  381        NaN   \n",
       "Extracurricular_Activities    708      2         No  361        NaN   \n",
       "\n",
       "                                  std       min        25%        50%  \\\n",
       "Gender                            NaN       NaN        NaN        NaN   \n",
       "Study_Hours_per_Week         8.877727      10.0       19.0       27.0   \n",
       "Attendance_Rate             13.802802  50.11697  67.550094  79.363046   \n",
       "Past_Exam_Scores            14.402739      50.0       65.0       79.0   \n",
       "Parental_Education_Level          NaN       NaN        NaN        NaN   \n",
       "Internet_Access_at_Home           NaN       NaN        NaN        NaN   \n",
       "Extracurricular_Activities        NaN       NaN        NaN        NaN   \n",
       "\n",
       "                                  75%        max  \n",
       "Gender                            NaN        NaN  \n",
       "Study_Hours_per_Week             34.0       39.0  \n",
       "Attendance_Rate             89.504232  99.967675  \n",
       "Past_Exam_Scores                 91.0      100.0  \n",
       "Parental_Education_Level          NaN        NaN  \n",
       "Internet_Access_at_Home           NaN        NaN  \n",
       "Extracurricular_Activities        NaN        NaN  "
      ]
     },
     "execution_count": 209,
     "metadata": {},
     "output_type": "execute_result"
    }
   ],
   "source": [
    "X.describe(percentiles=[0.25, 0.5, 0.75], include='all').T"
   ]
  },
  {
   "cell_type": "markdown",
   "id": "b8a9b247",
   "metadata": {},
   "source": [
    "### Correlation matrix"
   ]
  },
  {
   "cell_type": "code",
   "execution_count": 210,
   "id": "3c4331c9",
   "metadata": {},
   "outputs": [
    {
     "data": {
      "image/png": "[encoded data removed]",
      "text/plain": [
       "<Figure size 1000x800 with 2 Axes>"
      ]
     },
     "metadata": {},
     "output_type": "display_data"
    }
   ],
   "source": [
    "import matplotlib.pyplot as plt, seaborn as sns\n",
    "\n",
    "corr = X.corr(numeric_only=True)\n",
    "plt.figure(figsize=(10,8))\n",
    "sns.heatmap(corr, annot=True, fmt='.2f', cmap='coolwarm')\n",
    "plt.title('Correlation Matrix');"
   ]
  },
  {
   "cell_type": "markdown",
   "id": "abe5c2d7",
   "metadata": {},
   "source": [
    "### Missing‑value inspection"
   ]
  },
  {
   "cell_type": "code",
   "execution_count": 211,
   "id": "db26c900",
   "metadata": {},
   "outputs": [
    {
     "data": {
      "text/plain": [
       "Gender                        0\n",
       "Study_Hours_per_Week          0\n",
       "Attendance_Rate               0\n",
       "Past_Exam_Scores              0\n",
       "Parental_Education_Level      0\n",
       "Internet_Access_at_Home       0\n",
       "Extracurricular_Activities    0\n",
       "dtype: int64"
      ]
     },
     "execution_count": 211,
     "metadata": {},
     "output_type": "execute_result"
    }
   ],
   "source": [
    "missing = X.isna().sum().sort_values(ascending=False)\n",
    "missing"
   ]
  },
  {
   "cell_type": "markdown",
   "id": "c62b206b",
   "metadata": {},
   "source": [
    "No missing values, so no action needed."
   ]
  },
  {
   "cell_type": "markdown",
   "id": "274d0718",
   "metadata": {},
   "source": [
    "### Outlier check (IQR)"
   ]
  },
  {
   "cell_type": "code",
   "execution_count": 212,
   "id": "7694bd37",
   "metadata": {},
   "outputs": [
    {
     "data": {
      "text/plain": [
       "{'Study_Hours_per_Week': 0, 'Attendance_Rate': 0, 'Past_Exam_Scores': 0}"
      ]
     },
     "execution_count": 212,
     "metadata": {},
     "output_type": "execute_result"
    }
   ],
   "source": [
    "numeric_features = X.select_dtypes(include=[np.number]).columns.tolist()\n",
    "categorical_features = X.select_dtypes(exclude=[np.number]).columns.tolist()\n",
    "\n",
    "def iqr_outliers(feature):\n",
    "    q1, q3 = feature.quantile([0.25, 0.75])\n",
    "    iqr = q3 - q1\n",
    "    lower, upper = q1 - 1.5*iqr, q3 + 1.5*iqr\n",
    "    return feature[(feature < lower) | (feature > upper)]\n",
    "\n",
    "outlier_counts = {col: len(iqr_outliers(df[col])) for col in numeric_features}\n",
    "outlier_counts"
   ]
  },
  {
   "cell_type": "markdown",
   "id": "dd861e09",
   "metadata": {},
   "source": [
    "## 3  Modelling"
   ]
  },
  {
   "cell_type": "markdown",
   "id": "0fd22950",
   "metadata": {},
   "source": [
    "### Training"
   ]
  },
  {
   "cell_type": "code",
   "execution_count": 213,
   "id": "b6715410",
   "metadata": {},
   "outputs": [],
   "source": [
    "from sklearn.compose import ColumnTransformer\n",
    "from sklearn.preprocessing import OneHotEncoder, StandardScaler\n",
    "\n",
    "from sklearn.model_selection import train_test_split\n",
    "from sklearn.pipeline import Pipeline\n",
    "from sklearn.linear_model import LinearRegression\n",
    "from sklearn.metrics import mean_absolute_error, mean_squared_error\n",
    "\n",
    "X_train, X_test, y_train, y_test = train_test_split(\n",
    "    X, y, test_size=0.2, random_state=42)\n",
    "\n",
    "numeric_transformer = Pipeline([\n",
    "    ('scaler', StandardScaler())\n",
    "])\n",
    "categorical_transformer = Pipeline([\n",
    "    ('ohe', OneHotEncoder(handle_unknown=\"error\"))\n",
    "])\n",
    "\n",
    "preprocessor = ColumnTransformer([\n",
    "    ('num', numeric_transformer, numeric_features),\n",
    "    ('cat', categorical_transformer, categorical_features)\n",
    "])\n",
    "\n",
    "model = Pipeline([\n",
    "    ('preprocessor', preprocessor),\n",
    "    ('reg', LinearRegression())\n",
    "])\n",
    "model.fit(X_train, y_train);"
   ]
  },
  {
   "cell_type": "markdown",
   "id": "1daf6710",
   "metadata": {},
   "source": [
    "### Model coefficients"
   ]
  },
  {
   "cell_type": "code",
   "execution_count": 214,
   "id": "0c9186fd",
   "metadata": {},
   "outputs": [
    {
     "name": "stdout",
     "output_type": "stream",
     "text": [
      "Intercept: 58.81222403317859\n",
      "Coefficients: [ 2.43628168  3.1110801   3.41195983 -0.04252367  0.04252367  0.48543256\n",
      " -0.73703907  0.15949314  0.09211337  0.42899726 -0.42899726 -0.42362495\n",
      "  0.42362495]\n"
     ]
    }
   ],
   "source": [
    "reg = model.named_steps['reg']\n",
    "print('Intercept:', reg.intercept_)\n",
    "print('Coefficients:', reg.coef_)"
   ]
  },
  {
   "cell_type": "markdown",
   "id": "35e68f27",
   "metadata": {},
   "source": [
    "### Error metrics"
   ]
  },
  {
   "cell_type": "code",
   "execution_count": 215,
   "id": "6d2c1c88",
   "metadata": {},
   "outputs": [
    {
     "name": "stdout",
     "output_type": "stream",
     "text": [
      "MAE: 3.158\n",
      "MSE: 14.792\n",
      "RMSE: 3.846\n"
     ]
    }
   ],
   "source": [
    "import math\n",
    "\n",
    "y_pred = model.predict(X_test)\n",
    "mae = mean_absolute_error(y_test, y_pred)\n",
    "mse = mean_squared_error(y_test, y_pred)\n",
    "rmse = math.sqrt(mse)\n",
    "print(f\"MAE: {mae:.3f}\\nMSE: {mse:.3f}\\nRMSE: {rmse:.3f}\")"
   ]
  },
  {
   "cell_type": "markdown",
   "id": "578ea299",
   "metadata": {},
   "source": [
    "### Data visualisation"
   ]
  },
  {
   "cell_type": "code",
   "execution_count": 216,
   "id": "8e3d669c",
   "metadata": {},
   "outputs": [
    {
     "data": {
      "image/png": "[encoded data removed]",
      "text/plain": [
       "<Figure size 600x600 with 1 Axes>"
      ]
     },
     "metadata": {},
     "output_type": "display_data"
    }
   ],
   "source": [
    "plt.figure(figsize=(6,6))\n",
    "sns.scatterplot(x=y_test, y=y_pred)\n",
    "plt.plot([y_test.min(), y_test.max()], [y_test.min(), y_test.max()], 'k--', lw=1)\n",
    "plt.xlabel('Actual')\n",
    "plt.ylabel('Predicted')\n",
    "plt.title('Actual vs Predicted');"
   ]
  },
  {
   "cell_type": "markdown",
   "id": "0fe7648d",
   "metadata": {},
   "source": [
    "## 4  Conclusion\n",
    "\n",
    "Our model is decent (MAE and RMSE are about 3 or 4 while predicting grades in the interval 50-70). However, it badly predicts 50. The reason may be the fact that the grade system was not properly presented by the author of the dataset (50 is probably the minimal possible grade, but our model can predict 45 too). The dataset had no missing values and no outliers which is a good sign."
   ]
  }
 ],
 "metadata": {
  "kernelspec": {
   "display_name": "Python 3",
   "language": "python",
   "name": "python3"
  },
  "language_info": {
   "codemirror_mode": {
    "name": "ipython",
    "version": 3
   },
   "file_extension": ".py",
   "mimetype": "text/x-python",
   "name": "python",
   "nbconvert_exporter": "python",
   "pygments_lexer": "ipython3",
   "version": "3.11.9"
  }
 },
 "nbformat": 4,
 "nbformat_minor": 5
}
